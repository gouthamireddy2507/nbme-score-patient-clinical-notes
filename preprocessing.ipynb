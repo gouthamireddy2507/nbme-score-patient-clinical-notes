{
 "cells": [
  {
   "cell_type": "code",
   "execution_count": 1,
   "id": "9b39ddca-03eb-4d2d-bdfa-e459468461b2",
   "metadata": {},
   "outputs": [],
   "source": [
    "import pandas as pd\n",
    "import numpy as np\n",
    "import seaborn as sns\n",
    "import matplotlib.pyplot as plt\n",
    "import plotly.express as px\n",
    "import plotly.graph_objects as go\n",
    "from collections import Counter\n",
    "from wordcloud import WordCloud, STOPWORDS\n",
    "from nltk.corpus import stopwords\n",
    "from sklearn.feature_extraction.text import CountVectorizer\n",
    "import nltk\n",
    "import re\n",
    "from ast import literal_eval\n",
    "from itertools import chain\n",
    "import torch\n",
    "import torch.nn as nn\n",
    "from sklearn.metrics import precision_recall_fscore_support\n",
    "from sklearn.model_selection import train_test_split\n",
    "from torch import optim\n",
    "from torch.utils.data import DataLoader\n",
    "from torch.utils.data import Dataset\n",
    "from tqdm.notebook import tqdm\n",
    "from transformers import AutoModel, AutoTokenizer"
   ]
  },
  {
   "cell_type": "markdown",
   "id": "c4d1a5ea-e0d1-4d8b-9163-4393971482a1",
   "metadata": {},
   "source": [
    "**IMPORTING DATA**"
   ]
  },
  {
   "cell_type": "code",
   "execution_count": 2,
   "id": "b349d852-234f-4e7b-aaf9-222bb858d6f6",
   "metadata": {},
   "outputs": [],
   "source": [
    "train = pd.read_csv('nbme/train.csv')\n",
    "test = pd.read_csv('nbme/test.csv')\n",
    "patient_notes = pd.read_csv('nbme/patient_notes.csv')\n",
    "features = pd.read_csv('nbme/features.csv')"
   ]
  },
  {
   "cell_type": "markdown",
   "id": "e26aea77-91d4-499f-a25b-12897473cc5b",
   "metadata": {},
   "source": [
    "### DATA EXTRACTION AND UNDERSTANDING"
   ]
  },
  {
   "cell_type": "markdown",
   "id": "1f9fc170-6b35-429c-bf2a-2692bcabb12a",
   "metadata": {},
   "source": [
    "**PATIENT NOTES**"
   ]
  },
  {
   "cell_type": "code",
   "execution_count": 3,
   "id": "5719c72d-f158-4aed-8f3b-b30c643cd097",
   "metadata": {},
   "outputs": [
    {
     "name": "stdout",
     "output_type": "stream",
     "text": [
      "(42146, 3)\n",
      "pn_num        42146\n",
      "case_num         10\n",
      "pn_history    42146\n",
      "dtype: int64\n"
     ]
    },
    {
     "data": {
      "text/html": [
       "<div>\n",
       "<style scoped>\n",
       "    .dataframe tbody tr th:only-of-type {\n",
       "        vertical-align: middle;\n",
       "    }\n",
       "\n",
       "    .dataframe tbody tr th {\n",
       "        vertical-align: top;\n",
       "    }\n",
       "\n",
       "    .dataframe thead th {\n",
       "        text-align: right;\n",
       "    }\n",
       "</style>\n",
       "<table border=\"1\" class=\"dataframe\">\n",
       "  <thead>\n",
       "    <tr style=\"text-align: right;\">\n",
       "      <th></th>\n",
       "      <th>pn_num</th>\n",
       "      <th>case_num</th>\n",
       "      <th>pn_history</th>\n",
       "    </tr>\n",
       "  </thead>\n",
       "  <tbody>\n",
       "    <tr>\n",
       "      <th>0</th>\n",
       "      <td>0</td>\n",
       "      <td>0</td>\n",
       "      <td>17-year-old male, has come to the student heal...</td>\n",
       "    </tr>\n",
       "    <tr>\n",
       "      <th>1</th>\n",
       "      <td>1</td>\n",
       "      <td>0</td>\n",
       "      <td>17 yo male with recurrent palpitations for the...</td>\n",
       "    </tr>\n",
       "    <tr>\n",
       "      <th>2</th>\n",
       "      <td>2</td>\n",
       "      <td>0</td>\n",
       "      <td>Dillon Cleveland is a 17 y.o. male patient wit...</td>\n",
       "    </tr>\n",
       "    <tr>\n",
       "      <th>3</th>\n",
       "      <td>3</td>\n",
       "      <td>0</td>\n",
       "      <td>a 17 yo m c/o palpitation started 3 mos ago; \\...</td>\n",
       "    </tr>\n",
       "    <tr>\n",
       "      <th>4</th>\n",
       "      <td>4</td>\n",
       "      <td>0</td>\n",
       "      <td>17yo male with no pmh here for evaluation of p...</td>\n",
       "    </tr>\n",
       "  </tbody>\n",
       "</table>\n",
       "</div>"
      ],
      "text/plain": [
       "   pn_num  case_num                                         pn_history\n",
       "0       0         0  17-year-old male, has come to the student heal...\n",
       "1       1         0  17 yo male with recurrent palpitations for the...\n",
       "2       2         0  Dillon Cleveland is a 17 y.o. male patient wit...\n",
       "3       3         0  a 17 yo m c/o palpitation started 3 mos ago; \\...\n",
       "4       4         0  17yo male with no pmh here for evaluation of p..."
      ]
     },
     "execution_count": 3,
     "metadata": {},
     "output_type": "execute_result"
    }
   ],
   "source": [
    "# Importing patient Notes Data \n",
    "print(patient_notes.shape)\n",
    "print(patient_notes.nunique())\n",
    "patient_notes.head()"
   ]
  },
  {
   "cell_type": "markdown",
   "id": "d0d29da2-7370-4029-86f3-2272680bcbbd",
   "metadata": {},
   "source": [
    "\r\n",
    "1. **Dataset Information**: \r\n",
    "   - Shape of the dataset: (42146, 3), indicating 42146 rows and 3 columns.\r\n",
    "   - Unique values in each column:\r\n",
    "     - `pn_num`: 42146 unique values, likely representing unique patient note numbers.\r\n",
    "     - `case_num`: 10 unique vasibly indicating different cases or categories.\r\n",
    "     - `pn_history`: 42146 unique values, presumably containing the patient notes or histories.\r\n",
    "\r\n",
    "2. **Data Preview**:\r\n",
    "   - The `patient_notes.head()` function displays the first few rows of the dataset, showing columns `pn_num`, `case_num`, and `pn_history`.\r\n",
    "   - Each row seems to represent a patient note, with details such as age, gender, symptoms, and medicses or types."
   ]
  },
  {
   "cell_type": "markdown",
   "id": "8137c374-f950-480c-810d-02c6d3fbb767",
   "metadata": {},
   "source": [
    "**FEATURES**"
   ]
  },
  {
   "cell_type": "code",
   "execution_count": 4,
   "id": "b50c56e7-3810-4705-b530-2375864ec991",
   "metadata": {},
   "outputs": [
    {
     "name": "stdout",
     "output_type": "stream",
     "text": [
      "(143, 3)\n",
      "feature_num     143\n",
      "case_num         10\n",
      "feature_text    131\n",
      "dtype: int64\n"
     ]
    },
    {
     "data": {
      "text/html": [
       "<div>\n",
       "<style scoped>\n",
       "    .dataframe tbody tr th:only-of-type {\n",
       "        vertical-align: middle;\n",
       "    }\n",
       "\n",
       "    .dataframe tbody tr th {\n",
       "        vertical-align: top;\n",
       "    }\n",
       "\n",
       "    .dataframe thead th {\n",
       "        text-align: right;\n",
       "    }\n",
       "</style>\n",
       "<table border=\"1\" class=\"dataframe\">\n",
       "  <thead>\n",
       "    <tr style=\"text-align: right;\">\n",
       "      <th></th>\n",
       "      <th>feature_num</th>\n",
       "      <th>case_num</th>\n",
       "      <th>feature_text</th>\n",
       "    </tr>\n",
       "  </thead>\n",
       "  <tbody>\n",
       "    <tr>\n",
       "      <th>0</th>\n",
       "      <td>0</td>\n",
       "      <td>0</td>\n",
       "      <td>Family-history-of-MI-OR-Family-history-of-myoc...</td>\n",
       "    </tr>\n",
       "    <tr>\n",
       "      <th>1</th>\n",
       "      <td>1</td>\n",
       "      <td>0</td>\n",
       "      <td>Family-history-of-thyroid-disorder</td>\n",
       "    </tr>\n",
       "    <tr>\n",
       "      <th>2</th>\n",
       "      <td>2</td>\n",
       "      <td>0</td>\n",
       "      <td>Chest-pressure</td>\n",
       "    </tr>\n",
       "    <tr>\n",
       "      <th>3</th>\n",
       "      <td>3</td>\n",
       "      <td>0</td>\n",
       "      <td>Intermittent-symptoms</td>\n",
       "    </tr>\n",
       "    <tr>\n",
       "      <th>4</th>\n",
       "      <td>4</td>\n",
       "      <td>0</td>\n",
       "      <td>Lightheaded</td>\n",
       "    </tr>\n",
       "  </tbody>\n",
       "</table>\n",
       "</div>"
      ],
      "text/plain": [
       "   feature_num  case_num                                       feature_text\n",
       "0            0         0  Family-history-of-MI-OR-Family-history-of-myoc...\n",
       "1            1         0                 Family-history-of-thyroid-disorder\n",
       "2            2         0                                     Chest-pressure\n",
       "3            3         0                              Intermittent-symptoms\n",
       "4            4         0                                        Lightheaded"
      ]
     },
     "execution_count": 4,
     "metadata": {},
     "output_type": "execute_result"
    }
   ],
   "source": [
    "# Importing Features Data Representing different kind of features for each clinical case \n",
    "print(features.shape)\n",
    "print(features.nunique())\n",
    "features.head()"
   ]
  },
  {
   "cell_type": "markdown",
   "id": "595fa0e3-2425-4e70-a993-06afc6828e04",
   "metadata": {},
   "source": [
    "**TRAIN DATA**"
   ]
  },
  {
   "cell_type": "code",
   "execution_count": 5,
   "id": "dc1ee721-eb72-4354-9e5c-bb88770841ee",
   "metadata": {},
   "outputs": [
    {
     "name": "stdout",
     "output_type": "stream",
     "text": [
      "(14300, 6)\n",
      "id             14300\n",
      "case_num          10\n",
      "pn_num          1000\n",
      "feature_num      143\n",
      "annotation      5201\n",
      "location        7534\n",
      "dtype: int64\n"
     ]
    },
    {
     "data": {
      "text/html": [
       "<div>\n",
       "<style scoped>\n",
       "    .dataframe tbody tr th:only-of-type {\n",
       "        vertical-align: middle;\n",
       "    }\n",
       "\n",
       "    .dataframe tbody tr th {\n",
       "        vertical-align: top;\n",
       "    }\n",
       "\n",
       "    .dataframe thead th {\n",
       "        text-align: right;\n",
       "    }\n",
       "</style>\n",
       "<table border=\"1\" class=\"dataframe\">\n",
       "  <thead>\n",
       "    <tr style=\"text-align: right;\">\n",
       "      <th></th>\n",
       "      <th>id</th>\n",
       "      <th>case_num</th>\n",
       "      <th>pn_num</th>\n",
       "      <th>feature_num</th>\n",
       "      <th>annotation</th>\n",
       "      <th>location</th>\n",
       "    </tr>\n",
       "  </thead>\n",
       "  <tbody>\n",
       "    <tr>\n",
       "      <th>0</th>\n",
       "      <td>00016_000</td>\n",
       "      <td>0</td>\n",
       "      <td>16</td>\n",
       "      <td>0</td>\n",
       "      <td>['dad with recent heart attcak']</td>\n",
       "      <td>['696 724']</td>\n",
       "    </tr>\n",
       "    <tr>\n",
       "      <th>1</th>\n",
       "      <td>00016_001</td>\n",
       "      <td>0</td>\n",
       "      <td>16</td>\n",
       "      <td>1</td>\n",
       "      <td>['mom with \"thyroid disease']</td>\n",
       "      <td>['668 693']</td>\n",
       "    </tr>\n",
       "    <tr>\n",
       "      <th>2</th>\n",
       "      <td>00016_002</td>\n",
       "      <td>0</td>\n",
       "      <td>16</td>\n",
       "      <td>2</td>\n",
       "      <td>['chest pressure']</td>\n",
       "      <td>['203 217']</td>\n",
       "    </tr>\n",
       "    <tr>\n",
       "      <th>3</th>\n",
       "      <td>00016_003</td>\n",
       "      <td>0</td>\n",
       "      <td>16</td>\n",
       "      <td>3</td>\n",
       "      <td>['intermittent episodes', 'episode']</td>\n",
       "      <td>['70 91', '176 183']</td>\n",
       "    </tr>\n",
       "    <tr>\n",
       "      <th>4</th>\n",
       "      <td>00016_004</td>\n",
       "      <td>0</td>\n",
       "      <td>16</td>\n",
       "      <td>4</td>\n",
       "      <td>['felt as if he were going to pass out']</td>\n",
       "      <td>['222 258']</td>\n",
       "    </tr>\n",
       "  </tbody>\n",
       "</table>\n",
       "</div>"
      ],
      "text/plain": [
       "          id  case_num  pn_num  feature_num  \\\n",
       "0  00016_000         0      16            0   \n",
       "1  00016_001         0      16            1   \n",
       "2  00016_002         0      16            2   \n",
       "3  00016_003         0      16            3   \n",
       "4  00016_004         0      16            4   \n",
       "\n",
       "                                 annotation              location  \n",
       "0          ['dad with recent heart attcak']           ['696 724']  \n",
       "1             ['mom with \"thyroid disease']           ['668 693']  \n",
       "2                        ['chest pressure']           ['203 217']  \n",
       "3      ['intermittent episodes', 'episode']  ['70 91', '176 183']  \n",
       "4  ['felt as if he were going to pass out']           ['222 258']  "
      ]
     },
     "execution_count": 5,
     "metadata": {},
     "output_type": "execute_result"
    }
   ],
   "source": [
    "# Importing train Data (Each row represent a Unique Identifier for Patient-Feature Pair)\n",
    "print(train.shape)\n",
    "print(train.nunique())\n",
    "train.head()"
   ]
  },
  {
   "cell_type": "code",
   "execution_count": 6,
   "id": "f6c253c3-03ce-4a3f-807b-0b671e7a4fb4",
   "metadata": {},
   "outputs": [
    {
     "name": "stdout",
     "output_type": "stream",
     "text": [
      "Total number of observations with null values: 0\n"
     ]
    }
   ],
   "source": [
    "# Assuming 'train' is your DataFrame\n",
    "null_count = train.isnull().sum().sum()\n",
    "print(\"Total number of observations with null values:\", null_count)"
   ]
  },
  {
   "cell_type": "markdown",
   "id": "4b79962c-28c3-4c2c-9415-129f9a0c9acf",
   "metadata": {},
   "source": [
    "**Observations in Train Data:**\n",
    "- There are total of 6 columns and 14300 rows in train data.\n",
    "- 10 unique cases and 1000 unique patient ids are present.\n",
    "- Multilple annotations and locations are present in single rows."
   ]
  },
  {
   "cell_type": "markdown",
   "id": "4c23e388-302e-490d-923a-c08d20cc6cbb",
   "metadata": {},
   "source": [
    "**MISSING VALUES**"
   ]
  },
  {
   "cell_type": "code",
   "execution_count": 7,
   "id": "579fd2ce-b825-41df-8a5b-6cd6a048ae97",
   "metadata": {},
   "outputs": [
    {
     "name": "stdout",
     "output_type": "stream",
     "text": [
      "Number of Empty annotions and locations =  4399\n"
     ]
    }
   ],
   "source": [
    "print(\"Number of Empty annotions and locations = \", sum(train[\"location\"] == '[]'))"
   ]
  },
  {
   "cell_type": "markdown",
   "id": "d89ed1e3-9617-4878-8a6d-b98f422a6234",
   "metadata": {},
   "source": [
    "**VOCABULARY SIZE BEFORE PREPROCESSING**"
   ]
  },
  {
   "cell_type": "code",
   "execution_count": 30,
   "id": "ab283477-c25c-4bb4-8277-0c71a82902d1",
   "metadata": {
    "scrolled": true
   },
   "outputs": [
    {
     "name": "stdout",
     "output_type": "stream",
     "text": [
      "Vocabulary Size of patient_notes DataFrame: 123549\n"
     ]
    }
   ],
   "source": [
    "import pandas as pd\n",
    "from nltk.tokenize import word_tokenize\n",
    "\n",
    "# Load CSV file into a DataFrame\n",
    "patient_notes = pd.read_csv('nbme/patient_notes.csv')\n",
    "\n",
    "# Convert all columns to strings\n",
    "patient_notes = patient_notes.astype(str)\n",
    "\n",
    "# Initialize an empty list to store combined text\n",
    "combined_texts = []\n",
    "\n",
    "# Concatenate text from multiple columns into a single text column for each row\n",
    "for index, row in patient_notes.iterrows():\n",
    "    combined_texts.append(' '.join(row))\n",
    "\n",
    "# Combine all rows' text into a single string\n",
    "combined_text = ' '.join(combined_texts)\n",
    "\n",
    "# Tokenize the combined text\n",
    "tokens = word_tokenize(combined_text)\n",
    "\n",
    "# Calculate vocabulary size\n",
    "vocab_size = len(set(tokens))\n",
    "print(\"Vocabulary Size of patient_notes DataFrame:\", vocab_size)"
   ]
  },
  {
   "cell_type": "markdown",
   "id": "bab8cc46-a97c-4c3c-b231-51b414be35ac",
   "metadata": {},
   "source": [
    "**VOCABULARY SIZE BEFORE PREPROCESSING: 123549**"
   ]
  },
  {
   "cell_type": "markdown",
   "id": "879fb649-bd87-4a65-bb2e-3377a5008e8f",
   "metadata": {},
   "source": [
    "### EXPLORATORY DATA ANALYSIS"
   ]
  },
  {
   "cell_type": "code",
   "execution_count": 32,
   "id": "e1c840b1-4c64-4e8d-ba51-9aabefc1cf6a",
   "metadata": {},
   "outputs": [
    {
     "data": {
      "text/html": [
       "<style type=\"text/css\">\n",
       "#T_8b736_row0_col1 {\n",
       "  background-color: #3f007d;\n",
       "  color: #f1f1f1;\n",
       "}\n",
       "#T_8b736_row1_col1 {\n",
       "  background-color: #7669af;\n",
       "  color: #f1f1f1;\n",
       "}\n",
       "#T_8b736_row2_col1 {\n",
       "  background-color: #9b97c6;\n",
       "  color: #f1f1f1;\n",
       "}\n",
       "#T_8b736_row3_col1 {\n",
       "  background-color: #a19eca;\n",
       "  color: #f1f1f1;\n",
       "}\n",
       "#T_8b736_row4_col1 {\n",
       "  background-color: #bcbddc;\n",
       "  color: #000000;\n",
       "}\n",
       "#T_8b736_row5_col1 {\n",
       "  background-color: #bebedd;\n",
       "  color: #000000;\n",
       "}\n",
       "#T_8b736_row6_col1 {\n",
       "  background-color: #e9e8f2;\n",
       "  color: #000000;\n",
       "}\n",
       "#T_8b736_row7_col1 {\n",
       "  background-color: #efedf5;\n",
       "  color: #000000;\n",
       "}\n",
       "#T_8b736_row8_col1 {\n",
       "  background-color: #f3f1f7;\n",
       "  color: #000000;\n",
       "}\n",
       "#T_8b736_row9_col1 {\n",
       "  background-color: #fcfbfd;\n",
       "  color: #000000;\n",
       "}\n",
       "</style>\n",
       "<table id=\"T_8b736\">\n",
       "  <thead>\n",
       "    <tr>\n",
       "      <th class=\"blank level0\" >&nbsp;</th>\n",
       "      <th id=\"T_8b736_level0_col0\" class=\"col_heading level0 col0\" >case_num</th>\n",
       "      <th id=\"T_8b736_level0_col1\" class=\"col_heading level0 col1\" >pn_history</th>\n",
       "    </tr>\n",
       "  </thead>\n",
       "  <tbody>\n",
       "    <tr>\n",
       "      <th id=\"T_8b736_level0_row0\" class=\"row_heading level0 row0\" >3</th>\n",
       "      <td id=\"T_8b736_row0_col0\" class=\"data row0 col0\" >3</td>\n",
       "      <td id=\"T_8b736_row0_col1\" class=\"data row0 col1\" >9753</td>\n",
       "    </tr>\n",
       "    <tr>\n",
       "      <th id=\"T_8b736_level0_row1\" class=\"row_heading level0 row1\" >5</th>\n",
       "      <td id=\"T_8b736_row1_col0\" class=\"data row1 col0\" >5</td>\n",
       "      <td id=\"T_8b736_row1_col1\" class=\"data row1 col1\" >6909</td>\n",
       "    </tr>\n",
       "    <tr>\n",
       "      <th id=\"T_8b736_level0_row2\" class=\"row_heading level0 row2\" >4</th>\n",
       "      <td id=\"T_8b736_row2_col0\" class=\"data row2 col0\" >4</td>\n",
       "      <td id=\"T_8b736_row2_col1\" class=\"data row2 col1\" >5405</td>\n",
       "    </tr>\n",
       "    <tr>\n",
       "      <th id=\"T_8b736_level0_row3\" class=\"row_heading level0 row3\" >9</th>\n",
       "      <td id=\"T_8b736_row3_col0\" class=\"data row3 col0\" >9</td>\n",
       "      <td id=\"T_8b736_row3_col1\" class=\"data row3 col1\" >5151</td>\n",
       "    </tr>\n",
       "    <tr>\n",
       "      <th id=\"T_8b736_level0_row4\" class=\"row_heading level0 row4\" >8</th>\n",
       "      <td id=\"T_8b736_row4_col0\" class=\"data row4 col0\" >8</td>\n",
       "      <td id=\"T_8b736_row4_col1\" class=\"data row4 col1\" >4196</td>\n",
       "    </tr>\n",
       "    <tr>\n",
       "      <th id=\"T_8b736_level0_row5\" class=\"row_heading level0 row5\" >7</th>\n",
       "      <td id=\"T_8b736_row5_col0\" class=\"data row5 col0\" >7</td>\n",
       "      <td id=\"T_8b736_row5_col1\" class=\"data row5 col1\" >4101</td>\n",
       "    </tr>\n",
       "    <tr>\n",
       "      <th id=\"T_8b736_level0_row6\" class=\"row_heading level0 row6\" >0</th>\n",
       "      <td id=\"T_8b736_row6_col0\" class=\"data row6 col0\" >0</td>\n",
       "      <td id=\"T_8b736_row6_col1\" class=\"data row6 col1\" >2268</td>\n",
       "    </tr>\n",
       "    <tr>\n",
       "      <th id=\"T_8b736_level0_row7\" class=\"row_heading level0 row7\" >2</th>\n",
       "      <td id=\"T_8b736_row7_col0\" class=\"data row7 col0\" >2</td>\n",
       "      <td id=\"T_8b736_row7_col1\" class=\"data row7 col1\" >1958</td>\n",
       "    </tr>\n",
       "    <tr>\n",
       "      <th id=\"T_8b736_level0_row8\" class=\"row_heading level0 row8\" >6</th>\n",
       "      <td id=\"T_8b736_row8_col0\" class=\"data row8 col0\" >6</td>\n",
       "      <td id=\"T_8b736_row8_col1\" class=\"data row8 col1\" >1597</td>\n",
       "    </tr>\n",
       "    <tr>\n",
       "      <th id=\"T_8b736_level0_row9\" class=\"row_heading level0 row9\" >1</th>\n",
       "      <td id=\"T_8b736_row9_col0\" class=\"data row9 col0\" >1</td>\n",
       "      <td id=\"T_8b736_row9_col1\" class=\"data row9 col1\" >808</td>\n",
       "    </tr>\n",
       "  </tbody>\n",
       "</table>\n"
      ],
      "text/plain": [
       "<pandas.io.formats.style.Styler at 0x25e84e9ed90>"
      ]
     },
     "execution_count": 32,
     "metadata": {},
     "output_type": "execute_result"
    }
   ],
   "source": [
    "#value counts\n",
    "temp = patient_notes.groupby('case_num').count()['pn_history'].reset_index().sort_values(by='pn_history', ascending=False)\n",
    "temp.style.background_gradient(cmap='Purples')"
   ]
  },
  {
   "cell_type": "code",
   "execution_count": 33,
   "id": "ec993708-d6ff-4102-9c8f-fab1a7b7d0a6",
   "metadata": {},
   "outputs": [
    {
     "data": {
      "text/plain": [
       "<Axes: xlabel='case_num', ylabel='count'>"
      ]
     },
     "execution_count": 33,
     "metadata": {},
     "output_type": "execute_result"
    },
    {
     "data": {
      "image/png": "[encoded data removed]",
      "text/plain": [
       "<Figure size 1200x600 with 1 Axes>"
      ]
     },
     "metadata": {},
     "output_type": "display_data"
    }
   ],
   "source": [
    "plt.figure(figsize=(12,6))\n",
    "sns.countplot(x='case_num', data=patient_notes)"
   ]
  },
  {
   "cell_type": "markdown",
   "id": "c449c159-96bb-47b1-be0d-538af692b34b",
   "metadata": {},
   "source": [
    "**MOST COMMON**"
   ]
  },
  {
   "cell_type": "code",
   "execution_count": 34,
   "id": "8e0374a9-2038-4415-bf8a-e07917858118",
   "metadata": {},
   "outputs": [
    {
     "data": {
      "text/html": [
       "<style type=\"text/css\">\n",
       "#T_940e9_row0_col1 {\n",
       "  background-color: #08306b;\n",
       "  color: #f1f1f1;\n",
       "}\n",
       "#T_940e9_row1_col1 {\n",
       "  background-color: #4695c8;\n",
       "  color: #f1f1f1;\n",
       "}\n",
       "#T_940e9_row2_col1 {\n",
       "  background-color: #519ccc;\n",
       "  color: #f1f1f1;\n",
       "}\n",
       "#T_940e9_row3_col1 {\n",
       "  background-color: #71b1d7;\n",
       "  color: #f1f1f1;\n",
       "}\n",
       "#T_940e9_row4_col1 {\n",
       "  background-color: #8dc1dd;\n",
       "  color: #000000;\n",
       "}\n",
       "#T_940e9_row5_col1 {\n",
       "  background-color: #a0cbe2;\n",
       "  color: #000000;\n",
       "}\n",
       "#T_940e9_row6_col1 {\n",
       "  background-color: #a3cce3;\n",
       "  color: #000000;\n",
       "}\n",
       "#T_940e9_row7_col1 {\n",
       "  background-color: #a8cee4;\n",
       "  color: #000000;\n",
       "}\n",
       "#T_940e9_row8_col1 {\n",
       "  background-color: #bad6eb;\n",
       "  color: #000000;\n",
       "}\n",
       "#T_940e9_row9_col1 {\n",
       "  background-color: #caddf0;\n",
       "  color: #000000;\n",
       "}\n",
       "#T_940e9_row10_col1 {\n",
       "  background-color: #cadef0;\n",
       "  color: #000000;\n",
       "}\n",
       "#T_940e9_row11_col1 {\n",
       "  background-color: #cde0f1;\n",
       "  color: #000000;\n",
       "}\n",
       "#T_940e9_row12_col1 {\n",
       "  background-color: #cfe1f2;\n",
       "  color: #000000;\n",
       "}\n",
       "#T_940e9_row13_col1 {\n",
       "  background-color: #e7f1fa;\n",
       "  color: #000000;\n",
       "}\n",
       "#T_940e9_row14_col1 {\n",
       "  background-color: #ebf3fb;\n",
       "  color: #000000;\n",
       "}\n",
       "#T_940e9_row15_col1, #T_940e9_row16_col1 {\n",
       "  background-color: #eef5fc;\n",
       "  color: #000000;\n",
       "}\n",
       "#T_940e9_row17_col1 {\n",
       "  background-color: #f4f9fe;\n",
       "  color: #000000;\n",
       "}\n",
       "#T_940e9_row18_col1 {\n",
       "  background-color: #f6faff;\n",
       "  color: #000000;\n",
       "}\n",
       "#T_940e9_row19_col1 {\n",
       "  background-color: #f7fbff;\n",
       "  color: #000000;\n",
       "}\n",
       "</style>\n",
       "<table id=\"T_940e9\">\n",
       "  <thead>\n",
       "    <tr>\n",
       "      <th class=\"blank level0\" >&nbsp;</th>\n",
       "      <th id=\"T_940e9_level0_col0\" class=\"col_heading level0 col0\" >Common_words</th>\n",
       "      <th id=\"T_940e9_level0_col1\" class=\"col_heading level0 col1\" >count</th>\n",
       "    </tr>\n",
       "  </thead>\n",
       "  <tbody>\n",
       "    <tr>\n",
       "      <th id=\"T_940e9_level0_row0\" class=\"row_heading level0 row0\" >0</th>\n",
       "      <td id=\"T_940e9_row0_col0\" class=\"data row0 col0\" >and</td>\n",
       "      <td id=\"T_940e9_row0_col1\" class=\"data row0 col1\" >134345</td>\n",
       "    </tr>\n",
       "    <tr>\n",
       "      <th id=\"T_940e9_level0_row1\" class=\"row_heading level0 row1\" >1</th>\n",
       "      <td id=\"T_940e9_row1_col0\" class=\"data row1 col0\" >with</td>\n",
       "      <td id=\"T_940e9_row1_col1\" class=\"data row1 col1\" >95369</td>\n",
       "    </tr>\n",
       "    <tr>\n",
       "      <th id=\"T_940e9_level0_row2\" class=\"row_heading level0 row2\" >2</th>\n",
       "      <td id=\"T_940e9_row2_col0\" class=\"data row2 col0\" >of</td>\n",
       "      <td id=\"T_940e9_row2_col1\" class=\"data row2 col1\" >92239</td>\n",
       "    </tr>\n",
       "    <tr>\n",
       "      <th id=\"T_940e9_level0_row3\" class=\"row_heading level0 row3\" >3</th>\n",
       "      <td id=\"T_940e9_row3_col0\" class=\"data row3 col0\" >no</td>\n",
       "      <td id=\"T_940e9_row3_col1\" class=\"data row3 col1\" >82617</td>\n",
       "    </tr>\n",
       "    <tr>\n",
       "      <th id=\"T_940e9_level0_row4\" class=\"row_heading level0 row4\" >4</th>\n",
       "      <td id=\"T_940e9_row4_col0\" class=\"data row4 col0\" >a</td>\n",
       "      <td id=\"T_940e9_row4_col1\" class=\"data row4 col1\" >75820</td>\n",
       "    </tr>\n",
       "    <tr>\n",
       "      <th id=\"T_940e9_level0_row5\" class=\"row_heading level0 row5\" >5</th>\n",
       "      <td id=\"T_940e9_row5_col0\" class=\"data row5 col0\" >the</td>\n",
       "      <td id=\"T_940e9_row5_col1\" class=\"data row5 col1\" >70754</td>\n",
       "    </tr>\n",
       "    <tr>\n",
       "      <th id=\"T_940e9_level0_row6\" class=\"row_heading level0 row6\" >6</th>\n",
       "      <td id=\"T_940e9_row6_col0\" class=\"data row6 col0\" >in</td>\n",
       "      <td id=\"T_940e9_row6_col1\" class=\"data row6 col1\" >70346</td>\n",
       "    </tr>\n",
       "    <tr>\n",
       "      <th id=\"T_940e9_level0_row7\" class=\"row_heading level0 row7\" >7</th>\n",
       "      <td id=\"T_940e9_row7_col0\" class=\"data row7 col0\" >has</td>\n",
       "      <td id=\"T_940e9_row7_col1\" class=\"data row7 col1\" >68659</td>\n",
       "    </tr>\n",
       "    <tr>\n",
       "      <th id=\"T_940e9_level0_row8\" class=\"row_heading level0 row8\" >8</th>\n",
       "      <td id=\"T_940e9_row8_col0\" class=\"data row8 col0\" >is</td>\n",
       "      <td id=\"T_940e9_row8_col1\" class=\"data row8 col1\" >62703</td>\n",
       "    </tr>\n",
       "    <tr>\n",
       "      <th id=\"T_940e9_level0_row9\" class=\"row_heading level0 row9\" >9</th>\n",
       "      <td id=\"T_940e9_row9_col0\" class=\"data row9 col0\" >for</td>\n",
       "      <td id=\"T_940e9_row9_col1\" class=\"data row9 col1\" >57314</td>\n",
       "    </tr>\n",
       "    <tr>\n",
       "      <th id=\"T_940e9_level0_row10\" class=\"row_heading level0 row10\" >10</th>\n",
       "      <td id=\"T_940e9_row10_col0\" class=\"data row10 col0\" >to</td>\n",
       "      <td id=\"T_940e9_row10_col1\" class=\"data row10 col1\" >56886</td>\n",
       "    </tr>\n",
       "    <tr>\n",
       "      <th id=\"T_940e9_level0_row11\" class=\"row_heading level0 row11\" >11</th>\n",
       "      <td id=\"T_940e9_row11_col0\" class=\"data row11 col0\" >She</td>\n",
       "      <td id=\"T_940e9_row11_col1\" class=\"data row11 col1\" >55242</td>\n",
       "    </tr>\n",
       "    <tr>\n",
       "      <th id=\"T_940e9_level0_row12\" class=\"row_heading level0 row12\" >12</th>\n",
       "      <td id=\"T_940e9_row12_col0\" class=\"data row12 col0\" >or</td>\n",
       "      <td id=\"T_940e9_row12_col1\" class=\"data row12 col1\" >54622</td>\n",
       "    </tr>\n",
       "    <tr>\n",
       "      <th id=\"T_940e9_level0_row13\" class=\"row_heading level0 row13\" >13</th>\n",
       "      <td id=\"T_940e9_row13_col0\" class=\"data row13 col0\" >her</td>\n",
       "      <td id=\"T_940e9_row13_col1\" class=\"data row13 col1\" >41980</td>\n",
       "    </tr>\n",
       "    <tr>\n",
       "      <th id=\"T_940e9_level0_row14\" class=\"row_heading level0 row14\" >14</th>\n",
       "      <td id=\"T_940e9_row14_col0\" class=\"data row14 col0\" >pain</td>\n",
       "      <td id=\"T_940e9_row14_col1\" class=\"data row14 col1\" >40083</td>\n",
       "    </tr>\n",
       "    <tr>\n",
       "      <th id=\"T_940e9_level0_row15\" class=\"row_heading level0 row15\" >15</th>\n",
       "      <td id=\"T_940e9_row15_col0\" class=\"data row15 col0\" >she</td>\n",
       "      <td id=\"T_940e9_row15_col1\" class=\"data row15 col1\" >38742</td>\n",
       "    </tr>\n",
       "    <tr>\n",
       "      <th id=\"T_940e9_level0_row16\" class=\"row_heading level0 row16\" >16</th>\n",
       "      <td id=\"T_940e9_row16_col0\" class=\"data row16 col0\" >2</td>\n",
       "      <td id=\"T_940e9_row16_col1\" class=\"data row16 col1\" >38697</td>\n",
       "    </tr>\n",
       "    <tr>\n",
       "      <th id=\"T_940e9_level0_row17\" class=\"row_heading level0 row17\" >17</th>\n",
       "      <td id=\"T_940e9_row17_col0\" class=\"data row17 col0\" >No</td>\n",
       "      <td id=\"T_940e9_row17_col1\" class=\"data row17 col1\" >35750</td>\n",
       "    </tr>\n",
       "    <tr>\n",
       "      <th id=\"T_940e9_level0_row18\" class=\"row_heading level0 row18\" >18</th>\n",
       "      <td id=\"T_940e9_row18_col0\" class=\"data row18 col0\" >not</td>\n",
       "      <td id=\"T_940e9_row18_col1\" class=\"data row18 col1\" >34361</td>\n",
       "    </tr>\n",
       "    <tr>\n",
       "      <th id=\"T_940e9_level0_row19\" class=\"row_heading level0 row19\" >19</th>\n",
       "      <td id=\"T_940e9_row19_col0\" class=\"data row19 col0\" >but</td>\n",
       "      <td id=\"T_940e9_row19_col1\" class=\"data row19 col1\" >33838</td>\n",
       "    </tr>\n",
       "  </tbody>\n",
       "</table>\n"
      ],
      "text/plain": [
       "<pandas.io.formats.style.Styler at 0x25eac7e3850>"
      ]
     },
     "execution_count": 34,
     "metadata": {},
     "output_type": "execute_result"
    }
   ],
   "source": [
    "#Most common word in the target Selected\n",
    "patient_notes['temp']= patient_notes['pn_history'].apply(lambda x: str(x).split())\n",
    "top= Counter([item for sublist in patient_notes['temp'] for item in sublist])\n",
    "temp = pd.DataFrame(top.most_common(20))\n",
    "temp.columns=[\"Common_words\", 'count']\n",
    "temp.style.background_gradient(cmap='Blues')"
   ]
  },
  {
   "cell_type": "markdown",
   "id": "02ae4866-f05b-40c2-b2de-28976cee1054",
   "metadata": {},
   "source": [
    "## PREPROCESSING"
   ]
  },
  {
   "cell_type": "markdown",
   "id": "8c1ef026-f9b9-4704-bdcf-7e03af9ca687",
   "metadata": {},
   "source": [
    "**REMOVING STOPWORDS**"
   ]
  },
  {
   "cell_type": "code",
   "execution_count": 35,
   "id": "1a70e969-a069-47a0-a6b7-a61b160dfb90",
   "metadata": {},
   "outputs": [],
   "source": [
    "def remove_stopword(x):\n",
    "    return [y for y in x if y not in stopwords.words('english')]\n",
    "patient_notes['temp'] = patient_notes['temp'].apply(lambda x: remove_stopword(x))"
   ]
  },
  {
   "cell_type": "markdown",
   "id": "59940de1-e06a-4cb1-964d-d4429a2cdbbf",
   "metadata": {},
   "source": [
    "**COMMON WORDS AFTER THE STOPWORD REMOVAL**"
   ]
  },
  {
   "cell_type": "code",
   "execution_count": 36,
   "id": "a3d32e1f-d48a-4798-9f9e-af17cbec3656",
   "metadata": {},
   "outputs": [
    {
     "data": {
      "text/html": [
       "<style type=\"text/css\">\n",
       "#T_467b7_row0_col1 {\n",
       "  background-color: #3f007d;\n",
       "  color: #f1f1f1;\n",
       "}\n",
       "#T_467b7_row1_col1 {\n",
       "  background-color: #481084;\n",
       "  color: #f1f1f1;\n",
       "}\n",
       "#T_467b7_row2_col1 {\n",
       "  background-color: #5c3696;\n",
       "  color: #f1f1f1;\n",
       "}\n",
       "#T_467b7_row3_col1 {\n",
       "  background-color: #6c54a5;\n",
       "  color: #f1f1f1;\n",
       "}\n",
       "#T_467b7_row4_col1 {\n",
       "  background-color: #827fbb;\n",
       "  color: #f1f1f1;\n",
       "}\n",
       "#T_467b7_row5_col1 {\n",
       "  background-color: #c8c8e2;\n",
       "  color: #000000;\n",
       "}\n",
       "#T_467b7_row6_col1 {\n",
       "  background-color: #cecfe5;\n",
       "  color: #000000;\n",
       "}\n",
       "#T_467b7_row7_col1 {\n",
       "  background-color: #d8d8ea;\n",
       "  color: #000000;\n",
       "}\n",
       "#T_467b7_row8_col1 {\n",
       "  background-color: #dcdcec;\n",
       "  color: #000000;\n",
       "}\n",
       "#T_467b7_row9_col1 {\n",
       "  background-color: #e2e1ef;\n",
       "  color: #000000;\n",
       "}\n",
       "#T_467b7_row10_col1 {\n",
       "  background-color: #e6e5f1;\n",
       "  color: #000000;\n",
       "}\n",
       "#T_467b7_row11_col1 {\n",
       "  background-color: #e7e6f1;\n",
       "  color: #000000;\n",
       "}\n",
       "#T_467b7_row12_col1 {\n",
       "  background-color: #eae8f2;\n",
       "  color: #000000;\n",
       "}\n",
       "#T_467b7_row13_col1 {\n",
       "  background-color: #eeecf5;\n",
       "  color: #000000;\n",
       "}\n",
       "#T_467b7_row14_col1, #T_467b7_row15_col1 {\n",
       "  background-color: #f1eff6;\n",
       "  color: #000000;\n",
       "}\n",
       "#T_467b7_row16_col1 {\n",
       "  background-color: #f2f0f7;\n",
       "  color: #000000;\n",
       "}\n",
       "#T_467b7_row17_col1 {\n",
       "  background-color: #f3f1f7;\n",
       "  color: #000000;\n",
       "}\n",
       "#T_467b7_row18_col1 {\n",
       "  background-color: #fcfbfd;\n",
       "  color: #000000;\n",
       "}\n",
       "</style>\n",
       "<table id=\"T_467b7\">\n",
       "  <thead>\n",
       "    <tr>\n",
       "      <th class=\"blank level0\" >&nbsp;</th>\n",
       "      <th id=\"T_467b7_level0_col0\" class=\"col_heading level0 col0\" >Common_words</th>\n",
       "      <th id=\"T_467b7_level0_col1\" class=\"col_heading level0 col1\" >count</th>\n",
       "    </tr>\n",
       "  </thead>\n",
       "  <tbody>\n",
       "    <tr>\n",
       "      <th id=\"T_467b7_level0_row0\" class=\"row_heading level0 row0\" >1</th>\n",
       "      <td id=\"T_467b7_row0_col0\" class=\"data row0 col0\" >pain</td>\n",
       "      <td id=\"T_467b7_row0_col1\" class=\"data row0 col1\" >40083</td>\n",
       "    </tr>\n",
       "    <tr>\n",
       "      <th id=\"T_467b7_level0_row1\" class=\"row_heading level0 row1\" >2</th>\n",
       "      <td id=\"T_467b7_row1_col0\" class=\"data row1 col0\" >2</td>\n",
       "      <td id=\"T_467b7_row1_col1\" class=\"data row1 col1\" >38697</td>\n",
       "    </tr>\n",
       "    <tr>\n",
       "      <th id=\"T_467b7_level0_row2\" class=\"row_heading level0 row2\" >3</th>\n",
       "      <td id=\"T_467b7_row2_col0\" class=\"data row2 col0\" >No</td>\n",
       "      <td id=\"T_467b7_row2_col1\" class=\"data row2 col1\" >35750</td>\n",
       "    </tr>\n",
       "    <tr>\n",
       "      <th id=\"T_467b7_level0_row3\" class=\"row_heading level0 row3\" >4</th>\n",
       "      <td id=\"T_467b7_row3_col0\" class=\"data row3 col0\" >none</td>\n",
       "      <td id=\"T_467b7_row3_col1\" class=\"data row3 col1\" >33490</td>\n",
       "    </tr>\n",
       "    <tr>\n",
       "      <th id=\"T_467b7_level0_row4\" class=\"row_heading level0 row4\" >5</th>\n",
       "      <td id=\"T_467b7_row4_col0\" class=\"data row4 col0\" >denies</td>\n",
       "      <td id=\"T_467b7_row4_col1\" class=\"data row4 col1\" >30296</td>\n",
       "    </tr>\n",
       "    <tr>\n",
       "      <th id=\"T_467b7_level0_row5\" class=\"row_heading level0 row5\" >6</th>\n",
       "      <td id=\"T_467b7_row5_col0\" class=\"data row5 col0\" >-</td>\n",
       "      <td id=\"T_467b7_row5_col1\" class=\"data row5 col1\" >22866</td>\n",
       "    </tr>\n",
       "    <tr>\n",
       "      <th id=\"T_467b7_level0_row6\" class=\"row_heading level0 row6\" >7</th>\n",
       "      <td id=\"T_467b7_row6_col0\" class=\"data row6 col0\" >last</td>\n",
       "      <td id=\"T_467b7_row6_col1\" class=\"data row6 col1\" >22159</td>\n",
       "    </tr>\n",
       "    <tr>\n",
       "      <th id=\"T_467b7_level0_row7\" class=\"row_heading level0 row7\" >8</th>\n",
       "      <td id=\"T_467b7_row7_col0\" class=\"data row7 col0\" >3</td>\n",
       "      <td id=\"T_467b7_row7_col1\" class=\"data row7 col1\" >21139</td>\n",
       "    </tr>\n",
       "    <tr>\n",
       "      <th id=\"T_467b7_level0_row8\" class=\"row_heading level0 row8\" >9</th>\n",
       "      <td id=\"T_467b7_row8_col0\" class=\"data row8 col0\" >weeks</td>\n",
       "      <td id=\"T_467b7_row8_col1\" class=\"data row8 col1\" >20609</td>\n",
       "    </tr>\n",
       "    <tr>\n",
       "      <th id=\"T_467b7_level0_row9\" class=\"row_heading level0 row9\" >10</th>\n",
       "      <td id=\"T_467b7_row9_col0\" class=\"data row9 col0\" >PMH:</td>\n",
       "      <td id=\"T_467b7_row9_col1\" class=\"data row9 col1\" >19741</td>\n",
       "    </tr>\n",
       "    <tr>\n",
       "      <th id=\"T_467b7_level0_row10\" class=\"row_heading level0 row10\" >11</th>\n",
       "      <td id=\"T_467b7_row10_col0\" class=\"data row10 col0\" >ago</td>\n",
       "      <td id=\"T_467b7_row10_col1\" class=\"data row10 col1\" >19218</td>\n",
       "    </tr>\n",
       "    <tr>\n",
       "      <th id=\"T_467b7_level0_row11\" class=\"row_heading level0 row11\" >12</th>\n",
       "      <td id=\"T_467b7_row11_col0\" class=\"data row11 col0\" >He</td>\n",
       "      <td id=\"T_467b7_row11_col1\" class=\"data row11 col1\" >19027</td>\n",
       "    </tr>\n",
       "    <tr>\n",
       "      <th id=\"T_467b7_level0_row12\" class=\"row_heading level0 row12\" >13</th>\n",
       "      <td id=\"T_467b7_row12_col0\" class=\"data row12 col0\" >past</td>\n",
       "      <td id=\"T_467b7_row12_col1\" class=\"data row12 col1\" >18563</td>\n",
       "    </tr>\n",
       "    <tr>\n",
       "      <th id=\"T_467b7_level0_row13\" class=\"row_heading level0 row13\" >14</th>\n",
       "      <td id=\"T_467b7_row13_col0\" class=\"data row13 col0\" >Denies</td>\n",
       "      <td id=\"T_467b7_row13_col1\" class=\"data row13 col1\" >17902</td>\n",
       "    </tr>\n",
       "    <tr>\n",
       "      <th id=\"T_467b7_level0_row14\" class=\"row_heading level0 row14\" >15</th>\n",
       "      <td id=\"T_467b7_row14_col0\" class=\"data row14 col0\" >months</td>\n",
       "      <td id=\"T_467b7_row14_col1\" class=\"data row14 col1\" >17355</td>\n",
       "    </tr>\n",
       "    <tr>\n",
       "      <th id=\"T_467b7_level0_row15\" class=\"row_heading level0 row15\" >16</th>\n",
       "      <td id=\"T_467b7_row15_col0\" class=\"data row15 col0\" >ROS:</td>\n",
       "      <td id=\"T_467b7_row15_col1\" class=\"data row15 col1\" >17344</td>\n",
       "    </tr>\n",
       "    <tr>\n",
       "      <th id=\"T_467b7_level0_row16\" class=\"row_heading level0 row16\" >17</th>\n",
       "      <td id=\"T_467b7_row16_col0\" class=\"data row16 col0\" >yo</td>\n",
       "      <td id=\"T_467b7_row16_col1\" class=\"data row16 col1\" >17132</td>\n",
       "    </tr>\n",
       "    <tr>\n",
       "      <th id=\"T_467b7_level0_row17\" class=\"row_heading level0 row17\" >18</th>\n",
       "      <td id=\"T_467b7_row17_col0\" class=\"data row17 col0\" >pain,</td>\n",
       "      <td id=\"T_467b7_row17_col1\" class=\"data row17 col1\" >16932</td>\n",
       "    </tr>\n",
       "    <tr>\n",
       "      <th id=\"T_467b7_level0_row18\" class=\"row_heading level0 row18\" >19</th>\n",
       "      <td id=\"T_467b7_row18_col0\" class=\"data row18 col0\" >active</td>\n",
       "      <td id=\"T_467b7_row18_col1\" class=\"data row18 col1\" >14555</td>\n",
       "    </tr>\n",
       "  </tbody>\n",
       "</table>\n"
      ],
      "text/plain": [
       "<pandas.io.formats.style.Styler at 0x25ea4ed0910>"
      ]
     },
     "execution_count": 36,
     "metadata": {},
     "output_type": "execute_result"
    }
   ],
   "source": [
    "top = Counter([item for sublist in patient_notes['temp'] for item in sublist])\n",
    "temp=pd.DataFrame(top.most_common(20))\n",
    "temp=temp.iloc[1:,:]\n",
    "temp.columns=[\"Common_words\",'count']\n",
    "temp.style.background_gradient(cmap='Purples')"
   ]
  },
  {
   "cell_type": "markdown",
   "id": "252949d9-a54c-4244-96bb-7d5403929748",
   "metadata": {},
   "source": [
    "**Distribution of top n-grams for pn_history**"
   ]
  },
  {
   "cell_type": "code",
   "execution_count": 37,
   "id": "f5a479fd-2500-492c-abef-c9f4841b0d4a",
   "metadata": {},
   "outputs": [],
   "source": [
    "# if n_words=1 -> unigrams, if n_words=2 -> bigrams..\n",
    "def get_top_Nwords(corpus, n=None, remove_stop_words=False, n_words=1):\n",
    "    if remove_stop_words:\n",
    "        vec = CountVectorizer(stop_words='english', ngram_range=(n_words, n_words)).fit(corpus)\n",
    "    else:\n",
    "        vec = CountVectorizer(ngram_range=(n_words, n_words)).fit(corpus)\n",
    "    \n",
    "    bag_ofWords =vec.transform(corpus)\n",
    "    sum_words = bag_ofWords.sum(axis=0)\n",
    "    words_freq = [(word, sum_words[0,idx]) for word, idx in vec.vocabulary_.items()]\n",
    "    words_freq = sorted(words_freq, key=lambda x: x[1], reverse=True)\n",
    "    return words_freq[:n]"
   ]
  },
  {
   "cell_type": "code",
   "execution_count": 38,
   "id": "9c0b3cdc-0525-414e-8732-040cb0a55169",
   "metadata": {},
   "outputs": [
    {
     "name": "stdout",
     "output_type": "stream",
     "text": [
      "sexually active 16461\n",
      "weeks ago 14173\n",
      "chest pain 12695\n",
      "months ago 11170\n",
      "drug use 10382\n",
      "ros negative 9517\n",
      "pmh psh 8969\n",
      "year old 8922\n",
      "nausea vomiting 6939\n",
      "35 yo 6192\n",
      "abdominal pain 6062\n",
      "allergies nkda 5925\n",
      "past weeks 5523\n",
      "years ago 5377\n",
      "weight loss 5272\n",
      "falling asleep 5148\n",
      "epigastric pain 5012\n",
      "old female 4676\n",
      "breast cancer 4672\n",
      "active boyfriend 4612\n"
     ]
    }
   ],
   "source": [
    "common_words = get_top_Nwords(patient_notes['pn_history'].drop_duplicates(), 20, remove_stop_words=True, n_words=2)\n",
    "for word, freq in common_words:\n",
    "    print(word, freq)"
   ]
  },
  {
   "cell_type": "markdown",
   "id": "6679068c-377e-4495-a5dc-1d1a42c89cfc",
   "metadata": {},
   "source": [
    "**Bigram distribution**"
   ]
  },
  {
   "cell_type": "code",
   "execution_count": 39,
   "id": "5a99331e-924a-4c6a-aa16-afd3045a08ea",
   "metadata": {},
   "outputs": [
    {
     "name": "stdout",
     "output_type": "stream",
     "text": [
      "sexually active 16461\n",
      "weeks ago 14173\n",
      "chest pain 12695\n",
      "months ago 11170\n",
      "drug use 10382\n",
      "ros negative 9517\n",
      "pmh psh 8969\n",
      "year old 8922\n",
      "nausea vomiting 6939\n",
      "35 yo 6192\n",
      "abdominal pain 6062\n",
      "allergies nkda 5925\n",
      "past weeks 5523\n",
      "years ago 5377\n",
      "weight loss 5272\n",
      "falling asleep 5148\n",
      "epigastric pain 5012\n",
      "old female 4676\n",
      "breast cancer 4672\n",
      "active boyfriend 4612\n"
     ]
    }
   ],
   "source": [
    "common_words = get_top_Nwords(patient_notes['pn_history'].drop_duplicates(), 20, remove_stop_words=True, n_words=2)\n",
    "for word, freq in common_words:\n",
    "    print(word, freq)"
   ]
  },
  {
   "cell_type": "code",
   "execution_count": 40,
   "id": "1727b59e-3f56-48a4-a0c7-5dc3e3ba3850",
   "metadata": {},
   "outputs": [
    {
     "name": "stdout",
     "output_type": "stream",
     "text": [
      "year old female 4388\n",
      "sexually active boyfriend 4242\n",
      "illicit drug use 3540\n",
      "uncle bleeding ulcer 3413\n",
      "ros negative pmh 3362\n",
      "sexually active husband 2878\n",
      "35 year old 2872\n",
      "difficulty falling asleep 2853\n",
      "pmh psh meds 2584\n",
      "lmp weeks ago 2265\n",
      "year old male 2173\n",
      "chest pain sob 1990\n",
      "use sexually active 1947\n",
      "drugs sexually active 1893\n",
      "fh uncle bleeding 1788\n",
      "denies chest pain 1781\n",
      "pmh psh fh 1745\n",
      "15 30 minutes 1657\n",
      "drug use sexually 1607\n",
      "mr hamilton 35 1476\n"
     ]
    }
   ],
   "source": [
    "common_words = get_top_Nwords(patient_notes['pn_history'].drop_duplicates(), 20, remove_stop_words=True, n_words=3)\n",
    "for word, freq in common_words:\n",
    "    print(word, freq)"
   ]
  },
  {
   "cell_type": "markdown",
   "id": "31b6ed58-ed50-49e3-a47a-74b5b9cbf432",
   "metadata": {},
   "source": [
    "## PREPROCESSING"
   ]
  },
  {
   "cell_type": "code",
   "execution_count": 44,
   "id": "7987a01a-8ae2-4181-b678-d3fb7c117a17",
   "metadata": {},
   "outputs": [
    {
     "name": "stderr",
     "output_type": "stream",
     "text": [
      "[nltk_data] Downloading package punkt to\n",
      "[nltk_data]     C:\\Users\\Gouthami\\AppData\\Roaming\\nltk_data...\n",
      "[nltk_data]   Package punkt is already up-to-date!\n",
      "[nltk_data] Downloading package stopwords to\n",
      "[nltk_data]     C:\\Users\\Gouthami\\AppData\\Roaming\\nltk_data...\n",
      "[nltk_data]   Package stopwords is already up-to-date!\n",
      "[nltk_data] Downloading package wordnet to\n",
      "[nltk_data]     C:\\Users\\Gouthami\\AppData\\Roaming\\nltk_data...\n",
      "[nltk_data]   Package wordnet is already up-to-date!\n"
     ]
    }
   ],
   "source": [
    "import pandas as pd\n",
    "import nltk\n",
    "from nltk.tokenize import word_tokenize\n",
    "from nltk.corpus import stopwords\n",
    "from nltk.stem import WordNetLemmatizer\n",
    "import string\n",
    "import re\n",
    "\n",
    "# Download NLTK resources (only required if not already downloaded)\n",
    "nltk.download('punkt')\n",
    "nltk.download('stopwords')\n",
    "nltk.download('wordnet')\n",
    "\n",
    "# Load datasets\n",
    "patient_notes = pd.read_csv('nbme/patient_notes.csv')\n",
    "features = pd.read_csv('nbme/features.csv')\n",
    "train= pd.read_csv('nbme/train.csv')\n",
    "\n",
    "# Tokenization\n",
    "def tokenize_text(text):\n",
    "    tokens = word_tokenize(text)\n",
    "    return tokens\n",
    "\n",
    "# Text normalization\n",
    "def normalize_text(tokens):\n",
    "    # Convert tokens to lowercase\n",
    "    tokens = [token.lower() for token in tokens]\n",
    "    \n",
    "    # Remove punctuation\n",
    "    tokens = [token for token in tokens if token not in string.punctuation]\n",
    "    \n",
    "    return tokens\n",
    "\n",
    "# Lemmatization\n",
    "def lemmatize_text(tokens):\n",
    "    lemmatizer = WordNetLemmatizer()\n",
    "    lemmatized_tokens = [lemmatizer.lemmatize(token) for token in tokens]\n",
    "    return lemmatized_tokens\n",
    "\n",
    "# Remove stopwords\n",
    "def remove_stopwords(tokens):\n",
    "    stop_words = set(stopwords.words('english'))\n",
    "    filtered_tokens = [token for token in tokens if token not in stop_words]\n",
    "    return filtered_tokens\n",
    "\n",
    "# Preprocessing function\n",
    "def preprocess_text(text):\n",
    "    # Tokenization\n",
    "    tokens = tokenize_text(text)\n",
    "    \n",
    "    # Text normalization\n",
    "    normalized_tokens = normalize_text(tokens)\n",
    "    \n",
    "    # Lemmatization\n",
    "    lemmatized_tokens = lemmatize_text(normalized_tokens)\n",
    "    \n",
    "    # Remove stopwords\n",
    "    cleaned_tokens = remove_stopwords(lemmatized_tokens)\n",
    "    \n",
    "    # Join tokens back into a string\n",
    "    processed_text = ' '.join(cleaned_tokens)\n",
    "    \n",
    "    return processed_text\n",
    "\n",
    "# Apply preprocessing to 'pn_history' column in patient_notes DataFrame\n",
    "patient_notes['pn_history'] = patient_notes['pn_history'].apply(preprocess_text)"
   ]
  },
  {
   "cell_type": "code",
   "execution_count": 45,
   "id": "6035bac6-7bf8-4dac-bafe-2ae4ea881501",
   "metadata": {},
   "outputs": [],
   "source": [
    "# Apply preprocessing to 'pn_history' column in patient_notes DataFrame\n",
    "patient_notes['pn_history'] = patient_notes['pn_history'].apply(preprocess_text)"
   ]
  },
  {
   "cell_type": "markdown",
   "id": "4a107f50-8cc9-48f4-a6f0-5399c1561be5",
   "metadata": {},
   "source": [
    "**VOCABULARY SIZE AFTER PREPROCESSING**"
   ]
  },
  {
   "cell_type": "code",
   "execution_count": 47,
   "id": "4a2ecb72-6183-4d9d-9e1a-8e3c12e09c81",
   "metadata": {},
   "outputs": [
    {
     "name": "stdout",
     "output_type": "stream",
     "text": [
      "Vocabulary Size after Preprocessing: 62843\n"
     ]
    }
   ],
   "source": [
    "# Tokenize the preprocessed text\n",
    "preprocessed_tokens = patient_notes['pn_history'].apply(word_tokenize)\n",
    "\n",
    "# Flatten the list of token lists into a single list\n",
    "all_tokens = [token for sublist in preprocessed_tokens for token in sublist]\n",
    "\n",
    "# Calculate vocabulary size\n",
    "vocab_size = len(set(all_tokens))\n",
    "print(\"Vocabulary Size after Preprocessing:\", vocab_size)"
   ]
  },
  {
   "cell_type": "markdown",
   "id": "7ac90eb6-47bb-4544-912e-521710c23335",
   "metadata": {},
   "source": [
    "**VOCABULARY SIZE AFTER PREPROCESSING: 62843**"
   ]
  }
 ],
 "metadata": {
  "kernelspec": {
   "display_name": "Python 3 (ipykernel)",
   "language": "python",
   "name": "python3"
  },
  "language_info": {
   "codemirror_mode": {
    "name": "ipython",
    "version": 3
   },
   "file_extension": ".py",
   "mimetype": "text/x-python",
   "name": "python",
   "nbconvert_exporter": "python",
   "pygments_lexer": "ipython3",
   "version": "3.11.7"
  }
 },
 "nbformat": 4,
 "nbformat_minor": 5
}
